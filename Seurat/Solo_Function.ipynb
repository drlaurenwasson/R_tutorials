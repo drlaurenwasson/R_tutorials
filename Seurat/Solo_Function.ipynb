{
 "cells": [
  {
   "cell_type": "markdown",
   "metadata": {},
   "source": [
    "# To combine solo counts:\n",
    "\n",
    "#Working directory: /n/groups/seidman/lauren/scRNA-seq/solo"
   ]
  },
  {
   "cell_type": "code",
   "execution_count": 2,
   "metadata": {
    "scrolled": true
   },
   "outputs": [
    {
     "ename": "ModuleNotFoundError",
     "evalue": "No module named 'scanpy'",
     "output_type": "error",
     "traceback": [
      "\u001b[1;31m---------------------------------------------------------------------------\u001b[0m",
      "\u001b[1;31mModuleNotFoundError\u001b[0m                       Traceback (most recent call last)",
      "\u001b[1;32m<ipython-input-2-c82a5614dc3a>\u001b[0m in \u001b[0;36m<module>\u001b[1;34m\u001b[0m\n\u001b[0;32m      1\u001b[0m \u001b[1;32mimport\u001b[0m \u001b[0mnumpy\u001b[0m \u001b[1;32mas\u001b[0m \u001b[0mnp\u001b[0m\u001b[1;33m\u001b[0m\u001b[1;33m\u001b[0m\u001b[0m\n\u001b[1;32m----> 2\u001b[1;33m \u001b[1;32mimport\u001b[0m \u001b[0mscanpy\u001b[0m \u001b[1;32mas\u001b[0m \u001b[0msc\u001b[0m\u001b[1;33m\u001b[0m\u001b[1;33m\u001b[0m\u001b[0m\n\u001b[0m",
      "\u001b[1;31mModuleNotFoundError\u001b[0m: No module named 'scanpy'"
     ]
    }
   ],
   "source": [
    "import numpy as np\n",
    "import scanpy as sc"
   ]
  },
  {
   "cell_type": "code",
   "execution_count": 14,
   "metadata": {},
   "outputs": [],
   "source": [
    "def solo_write_file_2(directory, identifier):\n",
    "    softmax_scores = directory + \"/\" + identifier + \"/softmax_scores.npy\"\n",
    "    is_doublet = directory + \"/\" + identifier + \"/is_doublet.npy\"\n",
    "    h5ad= directory + \"/\" + identifier + \"/\" + identifier + \"_pbmc.h5ad\"\n",
    "    \n",
    "    solo1 = np.load(softmax_scores)\n",
    "    solo2 = np.load(is_doublet)\n",
    "    x=sc.read_h5ad(h5ad)\n",
    "    \n",
    "    x.obs['solo_score']=solo1\n",
    "    x.obs['predicted_doublets_solo']=solo2\n",
    "    x.obs.to_csv(identifier+\"_pbmc_withsolo_METADATA.csv\")"
   ]
  },
  {
   "cell_type": "code",
   "execution_count": 15,
   "metadata": {},
   "outputs": [
    {
     "name": "stdout",
     "output_type": "stream",
     "text": [
      "/n/groups/seidman/lauren/scRNA-seq/solo/L592-2/softmax_scores.npy\n",
      "/n/groups/seidman/lauren/scRNA-seq/solo/L592-2/is_doublet.npy\n",
      "/n/groups/seidman/lauren/scRNA-seq/solo/L592-2/L592-2_pbmc.h5ad\n"
     ]
    }
   ],
   "source": [
    "solo_write_file_2(\"/n/groups/seidman/lauren/scRNA-seq/solo\", \"L592-2\")"
   ]
  },
  {
   "cell_type": "code",
   "execution_count": 11,
   "metadata": {},
   "outputs": [],
   "source": [
    "identifiers = [\"L592-2\", \"L623-1\", \"L786-1\", \"L812-1\", \"L818-3\"]"
   ]
  },
  {
   "cell_type": "code",
   "execution_count": 16,
   "metadata": {},
   "outputs": [
    {
     "name": "stdout",
     "output_type": "stream",
     "text": [
      "/n/groups/seidman/lauren/scRNA-seq/solo/L592-2/softmax_scores.npy\n",
      "/n/groups/seidman/lauren/scRNA-seq/solo/L592-2/is_doublet.npy\n",
      "/n/groups/seidman/lauren/scRNA-seq/solo/L592-2/L592-2_pbmc.h5ad\n",
      "/n/groups/seidman/lauren/scRNA-seq/solo/L623-1/softmax_scores.npy\n",
      "/n/groups/seidman/lauren/scRNA-seq/solo/L623-1/is_doublet.npy\n",
      "/n/groups/seidman/lauren/scRNA-seq/solo/L623-1/L623-1_pbmc.h5ad\n",
      "/n/groups/seidman/lauren/scRNA-seq/solo/L786-1/softmax_scores.npy\n",
      "/n/groups/seidman/lauren/scRNA-seq/solo/L786-1/is_doublet.npy\n",
      "/n/groups/seidman/lauren/scRNA-seq/solo/L786-1/L786-1_pbmc.h5ad\n",
      "/n/groups/seidman/lauren/scRNA-seq/solo/L812-1/softmax_scores.npy\n",
      "/n/groups/seidman/lauren/scRNA-seq/solo/L812-1/is_doublet.npy\n",
      "/n/groups/seidman/lauren/scRNA-seq/solo/L812-1/L812-1_pbmc.h5ad\n",
      "/n/groups/seidman/lauren/scRNA-seq/solo/L818-3/softmax_scores.npy\n",
      "/n/groups/seidman/lauren/scRNA-seq/solo/L818-3/is_doublet.npy\n",
      "/n/groups/seidman/lauren/scRNA-seq/solo/L818-3/L818-3_pbmc.h5ad\n"
     ]
    }
   ],
   "source": [
    "for identifier in identifiers:\n",
    "    solo_write_file_2(\"/n/groups/seidman/lauren/scRNA-seq/solo\", identifier)"
   ]
  },
  {
   "cell_type": "code",
   "execution_count": 18,
   "metadata": {},
   "outputs": [
    {
     "name": "stdout",
     "output_type": "stream",
     "text": [
      "['L592-2_pbmc_withsolo_METADATA.csv']\n",
      "['L592-2_pbmc_withsolo_METADATA.csv', 'L623-1_pbmc_withsolo_METADATA.csv']\n",
      "['L592-2_pbmc_withsolo_METADATA.csv', 'L623-1_pbmc_withsolo_METADATA.csv', 'L786-1_pbmc_withsolo_METADATA.csv']\n",
      "['L592-2_pbmc_withsolo_METADATA.csv', 'L623-1_pbmc_withsolo_METADATA.csv', 'L786-1_pbmc_withsolo_METADATA.csv', 'L812-1_pbmc_withsolo_METADATA.csv']\n",
      "['L592-2_pbmc_withsolo_METADATA.csv', 'L623-1_pbmc_withsolo_METADATA.csv', 'L786-1_pbmc_withsolo_METADATA.csv', 'L812-1_pbmc_withsolo_METADATA.csv', 'L818-3_pbmc_withsolo_METADATA.csv']\n"
     ]
    }
   ],
   "source": [
    "#Try to merge these csv files based on the identifiers\n",
    "filenames = []\n",
    "\n",
    "for identifier in identifiers:\n",
    "    filenames.append(identifier +\"_pbmc_withsolo_METADATA.csv\")\n",
    "    print(filenames)"
   ]
  },
  {
   "cell_type": "code",
   "execution_count": 19,
   "metadata": {},
   "outputs": [
    {
     "data": {
      "text/plain": [
       "['L592-2_pbmc_withsolo_METADATA.csv',\n",
       " 'L623-1_pbmc_withsolo_METADATA.csv',\n",
       " 'L786-1_pbmc_withsolo_METADATA.csv',\n",
       " 'L812-1_pbmc_withsolo_METADATA.csv',\n",
       " 'L818-3_pbmc_withsolo_METADATA.csv']"
      ]
     },
     "execution_count": 19,
     "metadata": {},
     "output_type": "execute_result"
    }
   ],
   "source": [
    "filenames"
   ]
  },
  {
   "cell_type": "code",
   "execution_count": 20,
   "metadata": {},
   "outputs": [
    {
     "ename": "FileNotFoundError",
     "evalue": "[Errno 2] No such file or directory: 'L592-2_pbmc_withsolo_METADATA.csv'",
     "output_type": "error",
     "traceback": [
      "\u001b[1;31m---------------------------------------------------------------------------\u001b[0m",
      "\u001b[1;31mFileNotFoundError\u001b[0m                         Traceback (most recent call last)",
      "\u001b[1;32m<ipython-input-20-7f9fae8c9207>\u001b[0m in \u001b[0;36m<module>\u001b[1;34m\u001b[0m\n\u001b[0;32m      6\u001b[0m \u001b[1;33m\u001b[0m\u001b[0m\n\u001b[0;32m      7\u001b[0m         \u001b[1;31m# Open each file in read mode\u001b[0m\u001b[1;33m\u001b[0m\u001b[1;33m\u001b[0m\u001b[1;33m\u001b[0m\u001b[0m\n\u001b[1;32m----> 8\u001b[1;33m         \u001b[1;32mwith\u001b[0m \u001b[0mopen\u001b[0m\u001b[1;33m(\u001b[0m\u001b[0mnames\u001b[0m\u001b[1;33m)\u001b[0m \u001b[1;32mas\u001b[0m \u001b[0minfile\u001b[0m\u001b[1;33m:\u001b[0m\u001b[1;33m\u001b[0m\u001b[1;33m\u001b[0m\u001b[0m\n\u001b[0m\u001b[0;32m      9\u001b[0m \u001b[1;33m\u001b[0m\u001b[0m\n\u001b[0;32m     10\u001b[0m             \u001b[1;31m# read the data from file1 and\u001b[0m\u001b[1;33m\u001b[0m\u001b[1;33m\u001b[0m\u001b[1;33m\u001b[0m\u001b[0m\n",
      "\u001b[1;31mFileNotFoundError\u001b[0m: [Errno 2] No such file or directory: 'L592-2_pbmc_withsolo_METADATA.csv'"
     ]
    }
   ],
   "source": [
    "# Open file3 in write mode\n",
    "with open('solo_all.txt', 'w') as outfile:\n",
    "  \n",
    "    # Iterate through list\n",
    "    for names in filenames:\n",
    "  \n",
    "        # Open each file in read mode\n",
    "        with open(names) as infile:\n",
    "  \n",
    "            # read the data from file1 and\n",
    "            # file2 and write it in file3\n",
    "            outfile.write(infile.read())\n",
    "  \n",
    "        # Add '\\n' to enter data of file2\n",
    "        # from next line\n",
    "        outfile.write(\"\\n\")"
   ]
  }
 ],
 "metadata": {
  "kernelspec": {
   "display_name": "Python 3",
   "language": "python",
   "name": "python3"
  },
  "language_info": {
   "codemirror_mode": {
    "name": "ipython",
    "version": 3
   },
   "file_extension": ".py",
   "mimetype": "text/x-python",
   "name": "python",
   "nbconvert_exporter": "python",
   "pygments_lexer": "ipython3",
   "version": "3.7.3"
  }
 },
 "nbformat": 4,
 "nbformat_minor": 2
}
